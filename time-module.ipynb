{
 "cells": [
  {
   "cell_type": "markdown",
   "id": "48c9f55c",
   "metadata": {},
   "source": [
    "# Python Modules"
   ]
  },
  {
   "cell_type": "markdown",
   "id": "392d9589",
   "metadata": {},
   "source": [
    "# Most useful method from python time module "
   ]
  },
  {
   "cell_type": "code",
   "execution_count": 1,
   "id": "c74822dd",
   "metadata": {},
   "outputs": [],
   "source": [
    "# imports the time module\n",
    "import time"
   ]
  },
  {
   "cell_type": "code",
   "execution_count": 2,
   "id": "1ba9dd01",
   "metadata": {},
   "outputs": [
    {
     "data": {
      "text/plain": [
       "1628087905.8685424"
      ]
     },
     "execution_count": 2,
     "metadata": {},
     "output_type": "execute_result"
    }
   ],
   "source": [
    "# The time() function returns the no. of seconds elapsed since the epoch.\n",
    "time.time()"
   ]
  },
  {
   "cell_type": "code",
   "execution_count": 7,
   "id": "3707273d",
   "metadata": {},
   "outputs": [
    {
     "data": {
      "text/plain": [
       "time.struct_time(tm_year=2021, tm_mon=8, tm_mday=4, tm_hour=14, tm_min=41, tm_sec=7, tm_wday=2, tm_yday=216, tm_isdst=0)"
      ]
     },
     "execution_count": 7,
     "metadata": {},
     "output_type": "execute_result"
    }
   ],
   "source": [
    "# The gmtime() function will return a structure of time with nine attributes describing \n",
    "# the current year, moth, month_day, hours, minutes, seconds, week_day, year_day, isdst(daylight value).\n",
    "# If you pass an argument with seconds to this method, it will return the above nine values since the epoch.\n",
    "time.gmtime()\n",
    "time.gmtime(time.time())"
   ]
  },
  {
   "cell_type": "code",
   "execution_count": 8,
   "id": "e83b53c7",
   "metadata": {},
   "outputs": [
    {
     "data": {
      "text/plain": [
       "'Wed Aug  4 14:41:41 2021'"
      ]
     },
     "execution_count": 8,
     "metadata": {},
     "output_type": "execute_result"
    }
   ],
   "source": [
    "# This function will return the time which humans can understand. \n",
    "# We have to pass one argument called time, which is returned by the gmtime() function. \n",
    "# If we don't pass any arguments to the method, then it will return the current time.\n",
    "time.asctime(time.gmtime())"
   ]
  },
  {
   "cell_type": "code",
   "execution_count": 9,
   "id": "4b356637",
   "metadata": {},
   "outputs": [
    {
     "data": {
      "text/plain": [
       "'Wed Aug  4 20:12:04 2021'"
      ]
     },
     "execution_count": 9,
     "metadata": {},
     "output_type": "execute_result"
    }
   ],
   "source": [
    "# The ctime() function will take seconds as argument and returns the time as we saw above. \n",
    "# If we don't pass any arguments, then it will calculate the current time.\n",
    "time.ctime(time.time())"
   ]
  },
  {
   "cell_type": "code",
   "execution_count": 15,
   "id": "59c60e44",
   "metadata": {},
   "outputs": [
    {
     "name": "stdout",
     "output_type": "stream",
     "text": [
      "Wed Aug  4 20:13:37 2021\n",
      "Wed Aug  4 20:13:39 2021\n"
     ]
    }
   ],
   "source": [
    "# The sleep() function is used to halt the execution of the current thread for a specified number of seconds.\n",
    "# It is the most used method of the time module.\n",
    "print(time.ctime(time.time()))\n",
    "time.sleep(2)\n",
    "print(time.ctime(time.time()))"
   ]
  },
  {
   "cell_type": "code",
   "execution_count": 19,
   "id": "0908f658",
   "metadata": {},
   "outputs": [
    {
     "data": {
      "text/plain": [
       "-19800"
      ]
     },
     "execution_count": 19,
     "metadata": {},
     "output_type": "execute_result"
    }
   ],
   "source": [
    "# It returns the offset of the local (non-DST) timezone in UTC format.\n",
    "time.timezone"
   ]
  },
  {
   "cell_type": "code",
   "execution_count": 20,
   "id": "57a01cfd",
   "metadata": {},
   "outputs": [
    {
     "data": {
      "text/plain": [
       "('IST', 'IST')"
      ]
     },
     "execution_count": 20,
     "metadata": {},
     "output_type": "execute_result"
    }
   ],
   "source": [
    "# It returns a tuple containing the local non-DST and DST time zones.\n",
    "time.tzname"
   ]
  }
 ],
 "metadata": {
  "kernelspec": {
   "display_name": "Python 3",
   "language": "python",
   "name": "python3"
  },
  "language_info": {
   "codemirror_mode": {
    "name": "ipython",
    "version": 3
   },
   "file_extension": ".py",
   "mimetype": "text/x-python",
   "name": "python",
   "nbconvert_exporter": "python",
   "pygments_lexer": "ipython3",
   "version": "3.8.10"
  }
 },
 "nbformat": 4,
 "nbformat_minor": 5
}
