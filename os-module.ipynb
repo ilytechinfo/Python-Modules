{
 "cells": [
  {
   "cell_type": "markdown",
   "id": "197a7c2b",
   "metadata": {},
   "source": [
    "# Python Modules"
   ]
  },
  {
   "cell_type": "markdown",
   "id": "a2223ac7",
   "metadata": {},
   "source": [
    "# Most useful methods from python os module"
   ]
  },
  {
   "cell_type": "code",
   "execution_count": 1,
   "id": "6df6a139",
   "metadata": {},
   "outputs": [],
   "source": [
    "# imports the os module\n",
    "import os"
   ]
  },
  {
   "cell_type": "code",
   "execution_count": 2,
   "id": "38a780aa",
   "metadata": {},
   "outputs": [
    {
     "data": {
      "text/plain": [
       "'posix'"
      ]
     },
     "execution_count": 2,
     "metadata": {},
     "output_type": "execute_result"
    }
   ],
   "source": [
    "# Gives the name of the imported operating system dependent module\n",
    "os.name"
   ]
  },
  {
   "cell_type": "code",
   "execution_count": 3,
   "id": "1195804e",
   "metadata": {},
   "outputs": [
    {
     "data": {
      "text/plain": [
       "OSError"
      ]
     },
     "execution_count": 3,
     "metadata": {},
     "output_type": "execute_result"
    }
   ],
   "source": [
    "# It is the environment error class for I/O and OSError. It is raised when any function           \n",
    "# returns any system related error\n",
    "os.error"
   ]
  },
  {
   "cell_type": "code",
   "execution_count": 16,
   "id": "30150ec4",
   "metadata": {},
   "outputs": [],
   "source": [
    "# Gives the system dependent version information\n",
    "os.uname()"
   ]
  },
  {
   "cell_type": "code",
   "execution_count": 5,
   "id": "e6a92b1c",
   "metadata": {},
   "outputs": [
    {
     "data": {
      "text/plain": [
       "'/dev/tty'"
      ]
     },
     "execution_count": 5,
     "metadata": {},
     "output_type": "execute_result"
    }
   ],
   "source": [
    "# This method returns the filename corresponding to the controlling terminal of the process\n",
    "os.ctermid()"
   ]
  },
  {
   "cell_type": "code",
   "execution_count": 13,
   "id": "76adcb86",
   "metadata": {},
   "outputs": [],
   "source": [
    "#os.environ is a mapping object that represents the string environment. \n",
    "#This mapping is captured when the os module is initially imported and the changes made thereafter in \n",
    "#the environment is not reflected except for the ones that are made by directly modifying os.environ .\n",
    "os.environ"
   ]
  },
  {
   "cell_type": "code",
   "execution_count": 15,
   "id": "41d430eb",
   "metadata": {},
   "outputs": [],
   "source": [
    "# os.environb is a mapping object that represents the environment as byte strings.\n",
    "# It is actually the Bytes version of os.environ. os.environ and os.environb are synchronised.\n",
    "# It is available if and only if supports_bytes_environ is True.\n",
    "os.environb"
   ]
  },
  {
   "cell_type": "code",
   "execution_count": 18,
   "id": "7602fbc8",
   "metadata": {},
   "outputs": [],
   "source": [
    "# This method returns the value of the environment variable key if it exists and if it does not exist \n",
    "# then the default value is returned.\n",
    "os.getenv(key,default=None)"
   ]
  },
  {
   "cell_type": "code",
   "execution_count": 19,
   "id": "91fa928f",
   "metadata": {},
   "outputs": [
    {
     "data": {
      "text/plain": [
       "'/home/berilium/Videos/CODE/python'"
      ]
     },
     "execution_count": 19,
     "metadata": {},
     "output_type": "execute_result"
    }
   ],
   "source": [
    "# This method returns the location of the current working directory (CWD). \n",
    "# The CWD is the folder in which the python script is operating.\n",
    "os.getcwd()"
   ]
  },
  {
   "cell_type": "code",
   "execution_count": 22,
   "id": "7b8d169a",
   "metadata": {},
   "outputs": [
    {
     "data": {
      "text/plain": [
       "['.ipynb_checkpoints',\n",
       " '1python-intro.txt',\n",
       " 'Topics.txt',\n",
       " 'Untitled.ipynb',\n",
       " '1-py-intro.odp']"
      ]
     },
     "execution_count": 22,
     "metadata": {},
     "output_type": "execute_result"
    }
   ],
   "source": [
    "# This method returns a list of all the files and folders present inside the specified directory. \n",
    "# If no directory is specified then the list of files and folders inside the CWD is returned.\n",
    "os.listdir('/code/example')"
   ]
  },
  {
   "cell_type": "code",
   "execution_count": null,
   "id": "10f41188",
   "metadata": {},
   "outputs": [],
   "source": [
    "# It is used for changing the CWD. It changes CWD to the specified path.\n",
    "os.chdir('/code/example/books')"
   ]
  },
  {
   "cell_type": "code",
   "execution_count": null,
   "id": "8c89c7ff",
   "metadata": {},
   "outputs": [],
   "source": [
    "# This method creates a new directory according to the specified path.\n",
    "# In case the specified directory already exists a FileExistsError is raised.\n",
    "os.mkdir()"
   ]
  },
  {
   "cell_type": "code",
   "execution_count": null,
   "id": "8f8f6ee3",
   "metadata": {},
   "outputs": [],
   "source": [
    "# This method creates a directory recursively. It means that while creating a leaf directory \n",
    "# if any of the intermediate level directories specified in the path is missing then the method creates them all.\n",
    "os.makedirs()"
   ]
  },
  {
   "cell_type": "code",
   "execution_count": null,
   "id": "87adc7b2",
   "metadata": {},
   "outputs": [],
   "source": [
    "# This method deletes a file path. It cannot delete a directory. \n",
    "# In case the specified path is that of a directory then the OSError is raised.\n",
    "os.remove()"
   ]
  },
  {
   "cell_type": "code",
   "execution_count": null,
   "id": "53baee39",
   "metadata": {},
   "outputs": [],
   "source": [
    "# This method is used for deleting an empty directory. \n",
    "# If the path does not correspond to an empty directory then OSError is raised.\n",
    "os.rmdir()"
   ]
  },
  {
   "cell_type": "code",
   "execution_count": null,
   "id": "e70db5b8",
   "metadata": {},
   "outputs": [],
   "source": [
    "# This method generates the filenames in a directory tree by walking the tree in either a top-down or bottom-up manner. \n",
    "# os.walk returns a generator that creates a tuple of values (dirpath, dirnames, filenames)\n",
    "for dirpath, dirnames, filenames in os.walk('code/example'):\n",
    "    print(dirpath)\n",
    "    print(dirnames)\n",
    "    print(filenames)"
   ]
  },
  {
   "cell_type": "code",
   "execution_count": null,
   "id": "944999da",
   "metadata": {},
   "outputs": [],
   "source": [
    "# This method joins various path components with exactly one directory separator (“/”) \n",
    "# following each non-empty part except for the last path component. \n",
    "# If the last path component is empty then a directory separator (“/”) is put at the end. \n",
    "# This method returns a string with the concatenated path.\n",
    "path = '/code/example'\n",
    "new_path = os.path.join(path,'books')"
   ]
  },
  {
   "cell_type": "code",
   "execution_count": 25,
   "id": "d39b5434",
   "metadata": {},
   "outputs": [],
   "source": [
    "# This method is used to get the base name in a specified path. \n",
    "# The method returns a string value that represents the base name of the specified path.\n",
    "os.path.base_name('code/example/books')"
   ]
  },
  {
   "cell_type": "code",
   "execution_count": 23,
   "id": "6db1039a",
   "metadata": {},
   "outputs": [
    {
     "data": {
      "text/plain": [
       "('code/example', 'books')"
      ]
     },
     "execution_count": 23,
     "metadata": {},
     "output_type": "execute_result"
    }
   ],
   "source": [
    "# This method splits the pathname into a pair of head and tail. \n",
    "# Here, the tail is the last pathname component and the head is everything that comes before it. \n",
    "# The method returns a tuple of the head and tail of the specified path.\n",
    "os.path.split('code/example/books')"
   ]
  },
  {
   "cell_type": "code",
   "execution_count": 27,
   "id": "e8a87d59",
   "metadata": {},
   "outputs": [
    {
     "data": {
      "text/plain": [
       "'code/example'"
      ]
     },
     "execution_count": 27,
     "metadata": {},
     "output_type": "execute_result"
    }
   ],
   "source": [
    "# This method returns the directory name from the path given.\n",
    "os.path.dirname('code/example/books')"
   ]
  },
  {
   "cell_type": "code",
   "execution_count": 29,
   "id": "95869806",
   "metadata": {},
   "outputs": [],
   "source": [
    "# This method returns the longest path prefix which is a prefix for all the paths in the specified list.\n",
    "os.path.commonprefix()"
   ]
  },
  {
   "cell_type": "code",
   "execution_count": 31,
   "id": "2dbfdef8",
   "metadata": {},
   "outputs": [],
   "source": [
    "# This method returns the time of the last modification of the path.\n",
    "os.path.getmtime('/code')"
   ]
  },
  {
   "cell_type": "code",
   "execution_count": null,
   "id": "c87b1b33",
   "metadata": {},
   "outputs": [],
   "source": [
    "# This method returns the time of the last access of the path.\n",
    "os.path.getatime('/code')"
   ]
  },
  {
   "cell_type": "code",
   "execution_count": null,
   "id": "6cc86d6c",
   "metadata": {},
   "outputs": [],
   "source": [
    "# This method returns the ctime which is the time of the last change(Unix) or time of creation(Windows) \n",
    "# depending on the system.\n",
    "os.path.getctime('/code')"
   ]
  },
  {
   "cell_type": "code",
   "execution_count": null,
   "id": "1b6cfbc4",
   "metadata": {},
   "outputs": [],
   "source": [
    "# This method returns a normalised absolute version of the specified path.\n",
    "os.path.abspath()"
   ]
  },
  {
   "cell_type": "code",
   "execution_count": 32,
   "id": "d8a4fe7d",
   "metadata": {},
   "outputs": [
    {
     "data": {
      "text/plain": [
       "'/code/example'"
      ]
     },
     "execution_count": 32,
     "metadata": {},
     "output_type": "execute_result"
    }
   ],
   "source": [
    "# This method normalises the specified path name by collapsing redundant separators and up-level references.\n",
    "os.path.normpath('/code//example')"
   ]
  },
  {
   "cell_type": "code",
   "execution_count": null,
   "id": "b2ae79ba",
   "metadata": {},
   "outputs": [],
   "source": [
    "# This method normalises the case of the specified pathname.\n",
    "os.path.normcase()"
   ]
  },
  {
   "cell_type": "code",
   "execution_count": 33,
   "id": "3abf90a0",
   "metadata": {},
   "outputs": [
    {
     "data": {
      "text/plain": [
       "False"
      ]
     },
     "execution_count": 33,
     "metadata": {},
     "output_type": "execute_result"
    }
   ],
   "source": [
    "# This method checks whether the specified path corresponds to an existing file or not. \n",
    "# This method returns a boolean value.\n",
    "os.path.isfile('/code/example/source.csv')"
   ]
  },
  {
   "cell_type": "code",
   "execution_count": null,
   "id": "2d595751",
   "metadata": {},
   "outputs": [],
   "source": [
    "#This methods checks and reports whether the specified pathname corresponds to an existing directory or not. \n",
    "# The method returns a boolean value.\n",
    "os.path.isdir('/code/example/source.csv')\n",
    "os.path.isdir('/code/example/')"
   ]
  },
  {
   "cell_type": "code",
   "execution_count": null,
   "id": "fc7d6649",
   "metadata": {},
   "outputs": [],
   "source": [
    "# This method specifies whether the given path is absolute or not.\n",
    "os.path.isabs('/code/example/source.csv')"
   ]
  },
  {
   "cell_type": "code",
   "execution_count": null,
   "id": "9452be70",
   "metadata": {},
   "outputs": [],
   "source": [
    "# This method returns True for existing paths. It returns False for broken symbolic links.\n",
    "os.path.exists('/code/example/source.csv')"
   ]
  }
 ],
 "metadata": {
  "kernelspec": {
   "display_name": "Python 3",
   "language": "python",
   "name": "python3"
  },
  "language_info": {
   "codemirror_mode": {
    "name": "ipython",
    "version": 3
   },
   "file_extension": ".py",
   "mimetype": "text/x-python",
   "name": "python",
   "nbconvert_exporter": "python",
   "pygments_lexer": "ipython3",
   "version": "3.8.5"
  }
 },
 "nbformat": 4,
 "nbformat_minor": 5
}
