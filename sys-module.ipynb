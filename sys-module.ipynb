{
 "cells": [
  {
   "cell_type": "markdown",
   "id": "cbaf7010",
   "metadata": {},
   "source": [
    "# Python Modules"
   ]
  },
  {
   "cell_type": "markdown",
   "id": "7708692c",
   "metadata": {},
   "source": [
    "# Most useful methods from sys module"
   ]
  },
  {
   "cell_type": "code",
   "execution_count": 2,
   "id": "69466e47",
   "metadata": {},
   "outputs": [],
   "source": [
    "# import the sys module\n",
    "import sys"
   ]
  },
  {
   "cell_type": "code",
   "execution_count": 3,
   "id": "dd53d355",
   "metadata": {},
   "outputs": [
    {
     "data": {
      "text/plain": [
       "'3.8.10 (default, Jun  2 2021, 10:49:15) \\n[GCC 9.4.0]'"
      ]
     },
     "execution_count": 3,
     "metadata": {},
     "output_type": "execute_result"
    }
   ],
   "source": [
    "# This helps to understand the version of python being in use.\n",
    "sys.version"
   ]
  },
  {
   "cell_type": "code",
   "execution_count": 4,
   "id": "01310495",
   "metadata": {},
   "outputs": [
    {
     "data": {
      "text/plain": [
       "'/usr/bin/python3'"
      ]
     },
     "execution_count": 4,
     "metadata": {},
     "output_type": "execute_result"
    }
   ],
   "source": [
    "# It’s a string that tell you where your filesystem or your python interpreter exist.\n",
    "sys.executable"
   ]
  },
  {
   "cell_type": "code",
   "execution_count": 5,
   "id": "34bb65b4",
   "metadata": {},
   "outputs": [
    {
     "data": {
      "text/plain": [
       "('_abc',\n",
       " '_ast',\n",
       " '_bisect',\n",
       " '_blake2',\n",
       " '_codecs',\n",
       " '_collections',\n",
       " '_csv',\n",
       " '_datetime',\n",
       " '_elementtree',\n",
       " '_functools',\n",
       " '_heapq',\n",
       " '_imp',\n",
       " '_io',\n",
       " '_locale',\n",
       " '_md5',\n",
       " '_operator',\n",
       " '_pickle',\n",
       " '_posixsubprocess',\n",
       " '_random',\n",
       " '_sha1',\n",
       " '_sha256',\n",
       " '_sha3',\n",
       " '_sha512',\n",
       " '_signal',\n",
       " '_socket',\n",
       " '_sre',\n",
       " '_stat',\n",
       " '_statistics',\n",
       " '_string',\n",
       " '_struct',\n",
       " '_symtable',\n",
       " '_thread',\n",
       " '_tracemalloc',\n",
       " '_warnings',\n",
       " '_weakref',\n",
       " 'array',\n",
       " 'atexit',\n",
       " 'binascii',\n",
       " 'builtins',\n",
       " 'cmath',\n",
       " 'errno',\n",
       " 'faulthandler',\n",
       " 'fcntl',\n",
       " 'gc',\n",
       " 'grp',\n",
       " 'itertools',\n",
       " 'marshal',\n",
       " 'math',\n",
       " 'posix',\n",
       " 'pwd',\n",
       " 'pyexpat',\n",
       " 'select',\n",
       " 'spwd',\n",
       " 'sys',\n",
       " 'syslog',\n",
       " 'time',\n",
       " 'unicodedata',\n",
       " 'xxsubtype',\n",
       " 'zlib')"
      ]
     },
     "execution_count": 5,
     "metadata": {},
     "output_type": "execute_result"
    }
   ],
   "source": [
    "# This help you understand which all are the built-in modules available in python. \n",
    "# One need not to download these modules, and hence can directly be used environment after importing.\n",
    "sys.builtin_module_names"
   ]
  },
  {
   "cell_type": "code",
   "execution_count": 6,
   "id": "d8472d5a",
   "metadata": {},
   "outputs": [
    {
     "data": {
      "text/plain": [
       "'linux'"
      ]
     },
     "execution_count": 6,
     "metadata": {},
     "output_type": "execute_result"
    }
   ],
   "source": [
    "# This helps you know about the platform. \n",
    "# Everyone wants their program to run irrespective of the platform. And that’s where this command is mostly used.\n",
    "sys.platform"
   ]
  },
  {
   "cell_type": "code",
   "execution_count": 7,
   "id": "0522d5e6",
   "metadata": {},
   "outputs": [
    {
     "data": {
      "text/plain": [
       "<function sys.exit(status=None, /)>"
      ]
     },
     "execution_count": 7,
     "metadata": {},
     "output_type": "execute_result"
    }
   ],
   "source": [
    "# In case of any exceptions in the program, there occurs the need of safe exit from the program.\n",
    "# Sys.exit helps there.\n",
    "sys.exit"
   ]
  },
  {
   "cell_type": "code",
   "execution_count": 11,
   "id": "309471dc",
   "metadata": {},
   "outputs": [],
   "source": [
    "# This refers to a list in python, which contains arguments(command line) passed to the script.\n",
    "# If someone types len(sys.argv), it will fetch you the count of the number of arguments. \n",
    "# Someone working with command line arguments, will use sys.argv. Sys.argv[0] refers to the name of script.\n",
    "sys.argv"
   ]
  },
  {
   "cell_type": "code",
   "execution_count": 14,
   "id": "bf3ce9b1",
   "metadata": {},
   "outputs": [],
   "source": [
    "# This is a parameter less function, which can be used by user to perform cleanup actions at program’s exit. \n",
    "# This function no more exist in python 3.x. However, one can use “atexit” instead.\n",
    "sys.exitfunc"
   ]
  },
  {
   "cell_type": "code",
   "execution_count": 15,
   "id": "1bca101c",
   "metadata": {},
   "outputs": [
    {
     "name": "stdout",
     "output_type": "stream",
     "text": [
      "<_io.TextIOWrapper name='<stdin>' mode='r' encoding='utf-8'>\n",
      "<ipykernel.iostream.OutStream object at 0x7f4fb536fa00>\n",
      "<ipykernel.iostream.OutStream object at 0x7f4fb536fa90>\n"
     ]
    }
   ],
   "source": [
    "# These functions refers to file objects used by interpreter for the standard input, output and errors.\n",
    "\n",
    "#    Stdin is for interactive input like we use input(), raw_input(). Input is taken through stdin.\n",
    "#    Stdout is used for output like print(), output is printed actually through stdout.\n",
    "#    Stderr is to prompt the error message.\n",
    "for j in (sys.stdin, sys.stdout, sys.stderr):\n",
    "    print (j)"
   ]
  },
  {
   "cell_type": "code",
   "execution_count": 18,
   "id": "2af70a73",
   "metadata": {},
   "outputs": [],
   "source": [
    "# This function can help you limit the maximum depth of python interpreter. \n",
    "# It helps you keep a stopover infinite recursion that can be a cause of overflow. \n",
    "# However, highest possible limit depends on platform to platform.\n",
    "# In case some keeps the limit higher, he/she should be aware of risk that can lead to crashes in python.\n",
    "sys.setrecursionlimit(limit)"
   ]
  },
  {
   "cell_type": "code",
   "execution_count": 19,
   "id": "ffafd7f2",
   "metadata": {},
   "outputs": [
    {
     "name": "stdout",
     "output_type": "stream",
     "text": [
      "utf-8\n"
     ]
    }
   ],
   "source": [
    "# It returns the default string encoding.\n",
    "print(sys.getdefaultencoding())"
   ]
  },
  {
   "cell_type": "code",
   "execution_count": null,
   "id": "547a2f84",
   "metadata": {},
   "outputs": [],
   "source": [
    "# This function helps you change the default encoding for string in python environment.\n",
    "sys.setdefaultencoding('UTF8')"
   ]
  },
  {
   "cell_type": "code",
   "execution_count": null,
   "id": "f53c5d3a",
   "metadata": {},
   "outputs": [],
   "source": [
    "# This function helps you to clear all information related to current or previous exceptions. \n",
    "# This function is great to use, when you need to free the allocated resources and have to do object finalization.\n",
    "sys.exc_clear()"
   ]
  }
 ],
 "metadata": {
  "kernelspec": {
   "display_name": "Python 3",
   "language": "python",
   "name": "python3"
  },
  "language_info": {
   "codemirror_mode": {
    "name": "ipython",
    "version": 3
   },
   "file_extension": ".py",
   "mimetype": "text/x-python",
   "name": "python",
   "nbconvert_exporter": "python",
   "pygments_lexer": "ipython3",
   "version": "3.8.10"
  }
 },
 "nbformat": 4,
 "nbformat_minor": 5
}
